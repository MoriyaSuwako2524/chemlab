{
 "cells": [
  {
   "cell_type": "code",
   "id": "initial_id",
   "metadata": {
    "collapsed": true,
    "ExecuteTime": {
     "end_time": "2025-09-23T03:35:32.340348Z",
     "start_time": "2025-09-23T03:35:32.288319Z"
    }
   },
   "source": [
    "from util.ml_data import MLData\n",
    "from util.modify_inp import qchem_out_aimd_multi\n",
    "import numpy as np\n",
    "'''\n",
    "multi = qchem_out_aimd_multi()\n",
    "multi.read_files([\n",
    "    \"./examples/aimd_bodipy_nvt_1.out\",\n",
    "    \"./examples/aimd_bodipy_nvt_2.out\"\n",
    "])\n",
    "\n",
    "\n",
    "\n",
    "# 转换成 kcal/mol, Angstrom, kcal/mol/Angstrom\n",
    "\n",
    "multi.export_numpy(prefix=\"./examples/full_\",\n",
    "                   energy_unit=\"kcal\",\n",
    "                   distance_unit=\"ang\",\n",
    "                   force_unit=(\"kcal\", \"ang\"))\n",
    "'''\n",
    "\n"
   ],
   "outputs": [
    {
     "data": {
      "text/plain": [
       "'\\nmulti = qchem_out_aimd_multi()\\nmulti.read_files([\\n    \"./examples/aimd_bodipy_nvt_1.out\",\\n    \"./examples/aimd_bodipy_nvt_2.out\"\\n])\\n\\n\\n\\n# 转换成 kcal/mol, Angstrom, kcal/mol/Angstrom\\n\\nmulti.export_numpy(prefix=\"./examples/full_\",\\n                   energy_unit=\"kcal\",\\n                   distance_unit=\"ang\",\\n                   force_unit=(\"kcal\", \"ang\"))\\n'"
      ]
     },
     "execution_count": 1,
     "metadata": {},
     "output_type": "execute_result"
    }
   ],
   "execution_count": 1
  },
  {
   "metadata": {
    "ExecuteTime": {
     "end_time": "2025-09-23T03:35:33.094745Z",
     "start_time": "2025-09-23T03:35:33.067759Z"
    }
   },
   "cell_type": "code",
   "source": [
    "# 1. 读取 (可扩展字段)\n",
    "dataset = MLData(prefix=\"./examples/full_\", files=[\"coord\",\"energy\",\"grad\",\"type\"])\n",
    "\n",
    "# 2. 保存划分\n",
    "dataset.save_split(1000, 200, 200, prefix=\"./examples/1000_\")\n",
    "\n",
    "# 3. 加载 split 并切片\n",
    "split = np.load(\"./examples/1000_split.npz\", allow_pickle=True)\n",
    "train_data = dataset.get_split_data(split, part=\"idx_train\")\n",
    "val_data   = dataset.get_split_data(split, part=\"idx_val\")\n",
    "energies = np.load(\"./examples/full_energy.npy\", allow_pickle=True)\n"
   ],
   "id": "f263d1d3c9a1e8cc",
   "outputs": [
    {
     "name": "stdout",
     "output_type": "stream",
     "text": [
      "Loaded dataset with 20000 frames, 31 atoms\n",
      "Saved split to ./examples/1000_split.npz (idx_train=1000, idx_val=200, idx_test=200)\n"
     ]
    }
   ],
   "execution_count": 2
  },
  {
   "metadata": {
    "ExecuteTime": {
     "end_time": "2025-09-23T03:35:34.495716Z",
     "start_time": "2025-09-23T03:35:34.201299Z"
    }
   },
   "cell_type": "code",
   "source": [
    "import matplotlib.pyplot as plt\n",
    "split = np.load(\"./examples/1000_split.npz\", allow_pickle=True)\n",
    "plt.hist(energies[split[\"idx_train\"]], bins=50, alpha=0.5, label=\"train\")\n",
    "plt.hist(energies[split[\"idx_val\"]], bins=50, alpha=0.5, label=\"val\")\n",
    "plt.hist(energies[split[\"idx_test\"]], bins=50, alpha=0.5, label=\"test\")\n",
    "plt.legend(); plt.show()\n"
   ],
   "id": "1b9bac39f483e919",
   "outputs": [
    {
     "data": {
      "text/plain": [
       "<Figure size 640x480 with 1 Axes>"
      ],
      "image/png": "[encoded data removed]"
     },
     "metadata": {},
     "output_type": "display_data",
     "jetTransient": {
      "display_id": null
     }
    }
   ],
   "execution_count": 3
  },
  {
   "metadata": {},
   "cell_type": "code",
   "outputs": [],
   "execution_count": null,
   "source": "",
   "id": "262e2ff28eee160e"
  },
  {
   "metadata": {
    "ExecuteTime": {
     "end_time": "2025-09-23T03:28:56.878867100Z",
     "start_time": "2025-09-23T02:43:45.328208Z"
    }
   },
   "cell_type": "code",
   "source": [
    "import numpy as np\n",
    "\n",
    "# 读取原始能量\n",
    "energies = np.load(\"./examples/full_energy.npy\")\n",
    "\n",
    "# 计算偏置（全局均值）\n",
    "bias = np.mean(energies)\n",
    "\n",
    "# 生成新能量\n",
    "energies_shifted = energies - bias\n",
    "\n",
    "# 保存新的能量文件\n",
    "np.save(\"./examples/full_energy_shifted.npy\", energies_shifted)\n",
    "\n",
    "print(f\"Bias = {bias:.6f}\")\n",
    "print(\"Before shift:\", energies[:5])\n",
    "print(\"After shift :\", energies_shifted[:5])\n"
   ],
   "id": "d461d6c7651f6621",
   "outputs": [
    {
     "name": "stdout",
     "output_type": "stream",
     "text": [
      "Bias = -571897.053734\n",
      "Before shift: [-571921.89624087 -571918.89378122 -571915.15067152 -571911.74053746\n",
      " -571909.35475071]\n",
      "After shift : [-24.84250718 -21.84004753 -18.09693783 -14.68680376 -12.30101701]\n"
     ]
    }
   ],
   "execution_count": 12
  },
  {
   "metadata": {
    "ExecuteTime": {
     "end_time": "2025-09-23T03:28:56.878867100Z",
     "start_time": "2025-09-23T02:44:09.824061Z"
    }
   },
   "cell_type": "code",
   "source": "e = np.load(\"./examples/full_energy_shifted.npy\", allow_pickle=True)",
   "id": "a9cb6b5ea7a066e",
   "outputs": [],
   "execution_count": 13
  },
  {
   "metadata": {
    "ExecuteTime": {
     "end_time": "2025-09-23T03:28:56.878867100Z",
     "start_time": "2025-09-23T02:44:12.336974Z"
    }
   },
   "cell_type": "code",
   "source": "e.min()",
   "id": "4554f292ab69fd06",
   "outputs": [
    {
     "data": {
      "text/plain": [
       "np.float64(-25.440273201093078)"
      ]
     },
     "execution_count": 14,
     "metadata": {},
     "output_type": "execute_result"
    }
   ],
   "execution_count": 14
  },
  {
   "metadata": {
    "ExecuteTime": {
     "end_time": "2025-09-23T03:28:56.878867100Z",
     "start_time": "2025-09-23T02:44:15.087689Z"
    }
   },
   "cell_type": "code",
   "source": "e.max()",
   "id": "80f791e296808cf0",
   "outputs": [
    {
     "data": {
      "text/plain": [
       "np.float64(16.938620924018323)"
      ]
     },
     "execution_count": 15,
     "metadata": {},
     "output_type": "execute_result"
    }
   ],
   "execution_count": 15
  },
  {
   "metadata": {
    "ExecuteTime": {
     "end_time": "2025-09-23T03:28:56.885562800Z",
     "start_time": "2025-09-23T02:51:12.356253Z"
    }
   },
   "cell_type": "code",
   "source": [
    "energies = np.load(\"./examples/full_energy.npy\")\n",
    "\n",
    "# 计算偏置（全局均值）\n",
    "bias = np.mean(energies)\n",
    "bias"
   ],
   "id": "bf6d72b3e9c44b0b",
   "outputs": [
    {
     "data": {
      "text/plain": [
       "np.float64(-571897.0537336967)"
      ]
     },
     "execution_count": 17,
     "metadata": {},
     "output_type": "execute_result"
    }
   ],
   "execution_count": 17
  },
  {
   "metadata": {
    "ExecuteTime": {
     "end_time": "2025-09-23T03:28:56.885562800Z",
     "start_time": "2025-09-23T02:53:43.517267Z"
    }
   },
   "cell_type": "code",
   "source": [
    "energies_train =  energies[split[\"idx_train\"]]\n",
    "energies_test =  energies[split[\"idx_test\"]]"
   ],
   "id": "98f72442ce2fc639",
   "outputs": [],
   "execution_count": 35
  },
  {
   "metadata": {
    "ExecuteTime": {
     "end_time": "2025-09-23T03:28:56.885562800Z",
     "start_time": "2025-09-23T02:53:43.879610Z"
    }
   },
   "cell_type": "code",
   "source": "np.mean(energies_train),np.mean(energies_test)",
   "id": "ccecfcc55000aa19",
   "outputs": [
    {
     "data": {
      "text/plain": [
       "(np.float64(-571899.2310356833), np.float64(-571889.6595569097))"
      ]
     },
     "execution_count": 36,
     "metadata": {},
     "output_type": "execute_result"
    }
   ],
   "execution_count": 36
  },
  {
   "metadata": {
    "ExecuteTime": {
     "end_time": "2025-09-23T03:28:56.885562800Z",
     "start_time": "2025-09-23T02:54:38.806240Z"
    }
   },
   "cell_type": "code",
   "source": "energies_train.min(),energies_train.max()",
   "id": "104f7f8cecf331e6",
   "outputs": [
    {
     "data": {
      "text/plain": [
       "(np.float64(-571922.4940068978), np.float64(-571894.7203264463))"
      ]
     },
     "execution_count": 46,
     "metadata": {},
     "output_type": "execute_result"
    }
   ],
   "execution_count": 46
  },
  {
   "metadata": {
    "ExecuteTime": {
     "end_time": "2025-09-23T03:28:56.885562800Z",
     "start_time": "2025-09-23T02:54:39.329825Z"
    }
   },
   "cell_type": "code",
   "source": "energies_test.min(),energies_test.max()",
   "id": "1bdbd92fcf2b32c7",
   "outputs": [
    {
     "data": {
      "text/plain": [
       "(np.float64(-571892.2568602386), np.float64(-571880.1151127727))"
      ]
     },
     "execution_count": 47,
     "metadata": {},
     "output_type": "execute_result"
    }
   ],
   "execution_count": 47
  },
  {
   "metadata": {
    "ExecuteTime": {
     "end_time": "2025-09-23T03:28:56.894576Z",
     "start_time": "2025-09-23T02:53:22.083706Z"
    }
   },
   "cell_type": "code",
   "source": "np.sort(split[\"idx_train\"])",
   "id": "42dc1372c8a1310b",
   "outputs": [
    {
     "data": {
      "text/plain": [
       "array([   13,    31,    61,    74,    85,    86,   114,   145,   152,\n",
       "         163,   211,   220,   224,   248,   255,   308,   316,   341,\n",
       "         342,   380,   388,   411,   423,   424,   481,   557,   579,\n",
       "         585,   596,   618,   667,   676,   716,   756,   757,   765,\n",
       "         793,   965,   994,  1037,  1043,  1059,  1069,  1096,  1158,\n",
       "        1195,  1198,  1217,  1221,  1225,  1251,  1260,  1261,  1292,\n",
       "        1293,  1314,  1341,  1361,  1367,  1386,  1396,  1404,  1407,\n",
       "        1421,  1459,  1473,  1480,  1484,  1502,  1514,  1519,  1520,\n",
       "        1542,  1543,  1547,  1549,  1552,  1573,  1577,  1589,  1596,\n",
       "        1600,  1621,  1623,  1626,  1648,  1663,  1704,  1720,  1722,\n",
       "        1725,  1728,  1769,  1772,  1785,  1788,  1820,  1827,  1862,\n",
       "        1872,  1889,  1893,  1895,  1909,  1927,  1974,  1997,  2005,\n",
       "        2007,  2122,  2134,  2162,  2167,  2171,  2181,  2209,  2216,\n",
       "        2218,  2219,  2233,  2234,  2269,  2284,  2377,  2395,  2417,\n",
       "        2441,  2473,  2476,  2485,  2544,  2555,  2565,  2580,  2671,\n",
       "        2801,  2802,  2848,  2849,  2873,  2937,  3092,  3093,  3103,\n",
       "        3121,  3127,  3161,  3196,  3237,  3242,  3280,  3281,  3282,\n",
       "        3332,  3338,  3355,  3368,  3413,  3439,  3448,  3461,  3473,\n",
       "        3503,  3555,  3581,  3587,  3625,  3636,  3637,  3643,  3724,\n",
       "        3729,  3787,  3789,  3794,  3799,  3801,  3893,  3907,  3927,\n",
       "        3929,  3930,  3933,  3957,  3977,  3984,  4021,  4022,  4074,\n",
       "        4082,  4113,  4124,  4131,  4184,  4242,  4248,  4393,  4395,\n",
       "        4399,  4424,  4425,  4431,  4436,  4443,  4449,  4456,  4458,\n",
       "        4477,  4483,  4486,  4538,  4548,  4555,  4558,  4563,  4600,\n",
       "        4602,  4605,  4607,  4613,  4637,  4663,  4666,  4672,  4676,\n",
       "        4679,  4741,  4764,  4804,  4821,  4823,  4838,  4847,  4848,\n",
       "        4908,  4911,  4940,  4960,  4965,  4969,  4972,  4987,  4988,\n",
       "        4997,  5026,  5117,  5132,  5135,  5155,  5218,  5297,  5450,\n",
       "        5485,  5560,  5574,  5665,  5670,  5673,  5680,  5682,  5704,\n",
       "        5746,  5773,  5794,  5804,  5817,  5819,  5832,  5842,  5853,\n",
       "        5858,  5872,  5876,  5891,  5901,  5918,  5921,  5926,  5930,\n",
       "        5938,  5963,  5977,  5980,  5986,  6036,  6049,  6059,  6068,\n",
       "        6083,  6089,  6118,  6120,  6132,  6134,  6143,  6153,  6167,\n",
       "        6179,  6183,  6187,  6191,  6204,  6219,  6222,  6230,  6234,\n",
       "        6263,  6267,  6310,  6324,  6331,  6348,  6350,  6354,  6363,\n",
       "        6388,  6444,  6448,  6451,  6452,  6462,  6478,  6518,  6524,\n",
       "        6533,  6536,  6555,  6571,  6572,  6627,  6646,  6654,  6659,\n",
       "        6662,  6735,  6739,  6755,  6772,  6808,  6820,  6824,  6855,\n",
       "        6862,  6865,  6868,  6890,  6905,  6924,  6931,  6940,  6991,\n",
       "        6997,  7039,  7040,  7065,  7075,  7092,  7104,  7127,  7211,\n",
       "        7221,  7235,  7241,  7249,  7258,  7298,  7355,  7358,  7379,\n",
       "        7415,  7421,  7429,  7503,  7516,  7534,  7564,  7571,  7606,\n",
       "        7607,  7614,  7667,  7700,  7917,  8010,  8144,  8183,  8185,\n",
       "        8244,  8245,  8250,  8337,  8364,  8389,  8431,  8557,  8596,\n",
       "        8641,  8649,  8680,  8692,  8693,  8695,  8717,  8738,  8742,\n",
       "        8844,  8959,  8965,  8970,  8977,  8995,  8997,  9017,  9043,\n",
       "        9069,  9076,  9089,  9097,  9132,  9154,  9177,  9190,  9218,\n",
       "        9257,  9259,  9267,  9274,  9280,  9287,  9320,  9323,  9333,\n",
       "        9346,  9350,  9369,  9383,  9391,  9396,  9404,  9411,  9438,\n",
       "        9459,  9461,  9466,  9539,  9546,  9562,  9567,  9569,  9576,\n",
       "        9584,  9594,  9602,  9611,  9618,  9625,  9646,  9679,  9682,\n",
       "        9688,  9692,  9702,  9727,  9732,  9733,  9783,  9785,  9791,\n",
       "        9923,  9927,  9941,  9945,  9980,  9983,  9986, 10000, 10023,\n",
       "       10033, 10036, 10048, 10049, 10054, 10069, 10071, 10076, 10104,\n",
       "       10107, 10151, 10153, 10162, 10174, 10193, 10201, 10203, 10204,\n",
       "       10215, 10227, 10232, 10233, 10253, 10265, 10308, 10338, 10339,\n",
       "       10348, 10367, 10375, 10385, 10398, 10424, 10431, 10447, 10465,\n",
       "       10475, 10486, 10492, 10509, 10528, 10533, 10587, 10623, 10670,\n",
       "       10687, 10703, 10721, 10723, 10752, 10785, 10786, 10793, 10801,\n",
       "       10808, 10815, 10832, 10859, 10862, 10864, 10949, 10952, 11007,\n",
       "       11013, 11014, 11027, 11032, 11034, 11058, 11093, 11101, 11111,\n",
       "       11117, 11127, 11142, 11144, 11167, 11192, 11193, 11199, 11213,\n",
       "       11221, 11224, 11231, 11247, 11261, 11262, 11263, 11275, 11302,\n",
       "       11318, 11322, 11354, 11362, 11364, 11376, 11400, 11401, 11419,\n",
       "       11440, 11451, 11453, 11482, 11491, 11492, 11503, 11509, 11514,\n",
       "       11516, 11522, 11591, 11599, 11609, 11626, 11659, 11677, 11697,\n",
       "       11715, 11729, 11810, 11811, 11816, 12002, 12003, 12124, 12132,\n",
       "       12134, 12150, 12213, 12228, 12287, 12369, 12404, 12405, 12447,\n",
       "       12448, 12467, 12475, 12502, 12506, 12553, 12595, 12638, 12659,\n",
       "       12662, 12672, 12678, 12690, 12693, 12710, 12711, 12718, 12748,\n",
       "       12750, 12756, 12757, 12762, 12774, 12783, 12868, 12873, 12875,\n",
       "       12878, 12908, 12951, 12954, 12983, 13005, 13024, 13032, 13078,\n",
       "       13131, 13139, 13182, 13196, 13228, 13232, 13238, 13251, 13280,\n",
       "       13303, 13344, 13397, 13401, 13419, 13421, 13422, 13423, 13439,\n",
       "       13457, 13469, 13485, 13493, 13521, 13524, 13530, 13546, 13547,\n",
       "       13555, 13559, 13591, 13620, 13636, 13667, 13675, 13731, 13754,\n",
       "       13788, 13800, 13820, 13854, 13872, 13879, 13905, 13906, 14019,\n",
       "       14037, 14145, 14489, 14639, 14904, 14938, 14942, 15018, 15085,\n",
       "       15089, 15095, 15286, 15290, 15365, 15367, 15441, 15459, 15501,\n",
       "       15509, 15598, 15650, 15657, 15659, 15662, 15666, 15698, 15704,\n",
       "       15733, 15738, 15740, 15768, 15781, 15782, 15798, 15802, 15809,\n",
       "       15837, 15843, 15844, 15852, 15863, 15868, 15892, 15897, 15913,\n",
       "       15923, 15947, 15949, 15993, 15995, 15998, 16015, 16073, 16100,\n",
       "       16101, 16130, 16140, 16158, 16178, 16190, 16198, 16204, 16209,\n",
       "       16211, 16253, 16258, 16297, 16301, 16303, 16306, 16311, 16324,\n",
       "       16331, 16358, 16367, 16369, 16379, 16391, 16420, 16426, 16429,\n",
       "       16447, 16466, 16472, 16481, 16494, 16513, 16522, 16531, 16544,\n",
       "       16566, 16578, 16581, 16604, 16606, 16636, 16639, 16645, 16654,\n",
       "       16708, 16712, 16764, 16767, 16772, 16785, 16790, 16794, 16803,\n",
       "       16842, 16855, 16869, 16888, 16891, 16900, 16918, 16937, 16950,\n",
       "       16957, 17006, 17013, 17023, 17035, 17048, 17064, 17077, 17081,\n",
       "       17097, 17106, 17117, 17202, 17210, 17212, 17229, 17290, 17327,\n",
       "       17347, 17356, 17388, 17420, 17433, 17437, 17440, 17442, 17473,\n",
       "       17503, 17505, 17508, 17544, 17546, 17572, 17608, 17617, 17627,\n",
       "       17644, 17664, 17733, 17751, 17768, 17780, 17799, 17824, 17853,\n",
       "       17854, 17882, 17893, 17897, 17921, 17927, 17951, 17955, 17960,\n",
       "       17973, 17994, 18001, 18008, 18013, 18016, 18019, 18054, 18067,\n",
       "       18151, 18178, 18204, 18209, 18253, 18269, 18273, 18281, 18283,\n",
       "       18291, 18300, 18323, 18343, 18387, 18437, 18440, 18470, 18499,\n",
       "       18503, 18531, 18551, 18555, 18570, 18583, 18585, 18623, 18643,\n",
       "       18648, 18662, 18669, 18670, 18676, 18710, 18715, 18726, 18729,\n",
       "       18732, 18734, 18754, 18762, 18804, 18812, 18827, 18836, 18862,\n",
       "       18874, 18878, 18886, 18887, 18903, 18911, 18917, 18919, 18923,\n",
       "       18930, 18945, 18953, 18979, 18985, 18987, 18988, 19003, 19011,\n",
       "       19021, 19027, 19043, 19050, 19056, 19074, 19089, 19180, 19237,\n",
       "       19268, 19269, 19273, 19286, 19314, 19321, 19334, 19338, 19346,\n",
       "       19347, 19348, 19362, 19367, 19491, 19492, 19495, 19496, 19500,\n",
       "       19506, 19533, 19534, 19563, 19565, 19568, 19578, 19596, 19611,\n",
       "       19631, 19633, 19653, 19677, 19683, 19688, 19706, 19720, 19734,\n",
       "       19735, 19746, 19752, 19779, 19793, 19794, 19810, 19823, 19825,\n",
       "       19834, 19853, 19854, 19870, 19876, 19877, 19967, 19982, 19989,\n",
       "       19996])"
      ]
     },
     "execution_count": 33,
     "metadata": {},
     "output_type": "execute_result"
    }
   ],
   "execution_count": 33
  },
  {
   "metadata": {
    "ExecuteTime": {
     "end_time": "2025-09-23T03:28:56.894576Z",
     "start_time": "2025-09-23T02:53:29.605186Z"
    }
   },
   "cell_type": "code",
   "source": "np.sort(split[\"idx_test\"])",
   "id": "1d58853ce9b4931e",
   "outputs": [
    {
     "data": {
      "text/plain": [
       "array([  738,   807,   809,   831,   833,   841,   857,   919,   949,\n",
       "         972,  1079,  1081,  1185,  1236,  2606,  2647,  2697,  2771,\n",
       "        2815,  2816,  2830,  2912,  2914,  2921,  2925,  2955,  3086,\n",
       "        3565,  3696,  4050,  4064,  4139,  4191,  4255,  4257,  4270,\n",
       "        4286,  4296,  4324,  4930,  4980,  5229,  5280,  5321,  5349,\n",
       "        5355,  5399,  5402,  5422,  5502,  5529,  5607,  6667,  7527,\n",
       "        7622,  7624,  7645,  7647,  7670,  7755,  7774,  7799,  7835,\n",
       "        7844,  7867,  7884,  7890,  7900,  7903,  7953,  7956,  7968,\n",
       "        7997,  8000,  8007,  8036,  8063,  8069,  8087,  8122,  8135,\n",
       "        8136,  8138,  8188,  8214,  8231,  8260,  8299,  8325,  8367,\n",
       "        8383,  8506,  8513,  8672,  8752,  8770,  8823,  8882,  8906,\n",
       "        9481,  9483,  9484,  9879, 11206, 11544, 11754, 11760, 11766,\n",
       "       11870, 11871, 11872, 11881, 11902, 11922, 11949, 11953, 11969,\n",
       "       11983, 11984, 11991, 12042, 12065, 12102, 12115, 12165, 12173,\n",
       "       12177, 12249, 12289, 12293, 12306, 12412, 12564, 12565, 12988,\n",
       "       12991, 13977, 14183, 14188, 14197, 14204, 14205, 14210, 14232,\n",
       "       14237, 14243, 14267, 14284, 14298, 14307, 14334, 14343, 14348,\n",
       "       14353, 14357, 14382, 14408, 14429, 14558, 14569, 14572, 14590,\n",
       "       14670, 14715, 14729, 14751, 14767, 14779, 14848, 14855, 14861,\n",
       "       14883, 14921, 14981, 14991, 15041, 15043, 15125, 15176, 15191,\n",
       "       15206, 15249, 15258, 15269, 15278, 15328, 15349, 15353, 15362,\n",
       "       17594, 17677, 17744, 18745, 18747, 19195, 19197, 19253, 19257,\n",
       "       19258, 19383])"
      ]
     },
     "execution_count": 34,
     "metadata": {},
     "output_type": "execute_result"
    }
   ],
   "execution_count": 34
  },
  {
   "metadata": {},
   "cell_type": "code",
   "outputs": [],
   "execution_count": null,
   "source": "",
   "id": "49c6767dea46afb"
  }
 ],
 "metadata": {
  "kernelspec": {
   "display_name": "Python 3",
   "language": "python",
   "name": "python3"
  },
  "language_info": {
   "codemirror_mode": {
    "name": "ipython",
    "version": 2
   },
   "file_extension": ".py",
   "mimetype": "text/x-python",
   "name": "python",
   "nbconvert_exporter": "python",
   "pygments_lexer": "ipython2",
   "version": "2.7.6"
  }
 },
 "nbformat": 4,
 "nbformat_minor": 5
}
