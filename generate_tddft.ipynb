{
 "cells": [
  {
   "cell_type": "code",
   "execution_count": 1,
   "id": "ff062ae8-97ad-4c3d-860f-39eb115d8a55",
   "metadata": {},
   "outputs": [
    {
     "name": "stdout",
     "output_type": "stream",
     "text": [
      "Loaded dataset with 0 frames, 27 atoms\n",
      "XYZ files exported to ./xyz_split\n"
     ]
    }
   ],
   "source": [
    "# %%\n",
    "import numpy as np\n",
    "from util.ml_data import MLData\n",
    "\n",
    "path = \"./examples/phbdi/\"\n",
    "prefix = \"full_\"\n",
    "# 初始化数据集，加载 full_coord.npy 和 full_type.npy\n",
    "dataset = MLData(prefix=path+prefix, files=[\"coord\", \"type\"])\n",
    "\n",
    "# 读取 split 文件\n",
    "split = np.load(path+\"2000_split.npz\", allow_pickle=True)\n",
    "\n",
    "# 导出 xyz 文件\n",
    "dataset.export_xyz_from_split(split, outdir=\"./xyz_split\")\n"
   ]
  },
  {
   "cell_type": "code",
   "execution_count": null,
   "id": "a387015c-bd13-46d3-bfa3-93ffc0cb0328",
   "metadata": {},
   "outputs": [],
   "source": []
  }
 ],
 "metadata": {
  "kernelspec": {
   "display_name": "Python 3 (ipykernel)",
   "language": "python",
   "name": "python3"
  },
  "language_info": {
   "codemirror_mode": {
    "name": "ipython",
    "version": 3
   },
   "file_extension": ".py",
   "mimetype": "text/x-python",
   "name": "python",
   "nbconvert_exporter": "python",
   "pygments_lexer": "ipython3",
   "version": "3.11.2"
  }
 },
 "nbformat": 4,
 "nbformat_minor": 5
}
